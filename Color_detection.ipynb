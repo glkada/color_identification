{
 "cells": [
  {
   "cell_type": "code",
   "execution_count": 1,
   "metadata": {},
   "outputs": [],
   "source": [
    "import os\n",
    "import random\n",
    "import tensorflow as tf\n",
    "from tensorflow.keras.optimizers import RMSprop\n",
    "from tensorflow.keras.preprocessing.image import ImageDataGenerator\n",
    "from os import getcwd\n",
    "import cv2\n",
    "import matplotlib.pyplot as plt\n",
    "import matplotlib.image as mpimg"
   ]
  },
  {
   "cell_type": "code",
   "execution_count": 2,
   "metadata": {},
   "outputs": [],
   "source": [
    "model = tf.keras.models.Sequential([\n",
    "    tf.keras.layers.Conv2D(16, (3, 3), activation = 'relu', input_shape = (128, 128, 3)),\n",
    "    tf.keras.layers.AveragePooling2D(2, 2),\n",
    "    tf.keras.layers.Conv2D(32, (3, 3), activation = 'relu'),\n",
    "    tf.keras.layers.AveragePooling2D(2, 2),\n",
    "    tf.keras.layers.Flatten(),\n",
    "    tf.keras.layers.Dense(512, activation = 'relu'),\n",
    "    tf.keras.layers.Dense(3, activation = 'softmax')\n",
    "])\n",
    "\n",
    "model.compile(optimizer=RMSprop(lr=0.001), loss='categorical_crossentropy', metrics=['acc'])"
   ]
  },
  {
   "cell_type": "code",
   "execution_count": 3,
   "metadata": {},
   "outputs": [
    {
     "name": "stdout",
     "output_type": "stream",
     "text": [
      "Model: \"sequential\"\n",
      "_________________________________________________________________\n",
      "Layer (type)                 Output Shape              Param #   \n",
      "=================================================================\n",
      "conv2d (Conv2D)              (None, 126, 126, 16)      448       \n",
      "_________________________________________________________________\n",
      "average_pooling2d (AveragePo (None, 63, 63, 16)        0         \n",
      "_________________________________________________________________\n",
      "conv2d_1 (Conv2D)            (None, 61, 61, 32)        4640      \n",
      "_________________________________________________________________\n",
      "average_pooling2d_1 (Average (None, 30, 30, 32)        0         \n",
      "_________________________________________________________________\n",
      "flatten (Flatten)            (None, 28800)             0         \n",
      "_________________________________________________________________\n",
      "dense (Dense)                (None, 512)               14746112  \n",
      "_________________________________________________________________\n",
      "dense_1 (Dense)              (None, 3)                 1539      \n",
      "=================================================================\n",
      "Total params: 14,752,739\n",
      "Trainable params: 14,752,739\n",
      "Non-trainable params: 0\n",
      "_________________________________________________________________\n"
     ]
    }
   ],
   "source": [
    "model.summary()"
   ]
  },
  {
   "cell_type": "code",
   "execution_count": 4,
   "metadata": {},
   "outputs": [
    {
     "name": "stdout",
     "output_type": "stream",
     "text": [
      "Found 27 images belonging to 3 classes.\n",
      "Found 9 images belonging to 3 classes.\n"
     ]
    }
   ],
   "source": [
    "TRAINING_DIR = r'C:\\Users\\adity\\Documents\\rgb\\training'\n",
    "train_datagen = ImageDataGenerator(\n",
    "    \n",
    "    fill_mode = 'nearest')\n",
    "\n",
    "train_generator = train_datagen.flow_from_directory(\n",
    "    TRAINING_DIR,\n",
    "    target_size = (128, 128),\n",
    "    batch_size = 6,\n",
    "    )\n",
    "\n",
    "VALIDATION_DIR = r'C:\\Users\\adity\\Documents\\rgb\\testing'\n",
    "validation_datagen = ImageDataGenerator(rescale = 1./255)\n",
    "\n",
    "validation_generator = validation_datagen.flow_from_directory(\n",
    "    VALIDATION_DIR,\n",
    "    target_size = (128, 128),\n",
    "    batch_size = 6,\n",
    "    )\n"
   ]
  },
  {
   "cell_type": "code",
   "execution_count": 5,
   "metadata": {},
   "outputs": [
    {
     "name": "stdout",
     "output_type": "stream",
     "text": [
      "WARNING:tensorflow:From <ipython-input-5-318500b946fb>:4: Model.fit_generator (from tensorflow.python.keras.engine.training) is deprecated and will be removed in a future version.\n",
      "Instructions for updating:\n",
      "Please use Model.fit, which supports generators.\n",
      "WARNING:tensorflow:sample_weight modes were coerced from\n",
      "  ...\n",
      "    to  \n",
      "  ['...']\n",
      "WARNING:tensorflow:sample_weight modes were coerced from\n",
      "  ...\n",
      "    to  \n",
      "  ['...']\n",
      "Train for 5 steps, validate for 2 steps\n",
      "Epoch 1/50\n",
      "5/5 [==============================] - 2s 361ms/step - loss: 1268.3678 - acc: 0.5185 - val_loss: 1.1495 - val_acc: 0.6667\n",
      "Epoch 2/50\n",
      "5/5 [==============================] - 0s 22ms/step - loss: 143.1049 - acc: 0.7407 - val_loss: 0.6840 - val_acc: 0.7778\n",
      "Epoch 3/50\n",
      "5/5 [==============================] - 0s 22ms/step - loss: 29.9565 - acc: 0.8889 - val_loss: 0.7092 - val_acc: 0.8889\n",
      "Epoch 4/50\n",
      "5/5 [==============================] - 0s 23ms/step - loss: 22.0346 - acc: 0.8889 - val_loss: 0.7916 - val_acc: 0.8889\n",
      "Epoch 5/50\n",
      "5/5 [==============================] - 0s 23ms/step - loss: 18.5637 - acc: 0.8519 - val_loss: 0.7947 - val_acc: 0.7778\n",
      "Epoch 6/50\n",
      "5/5 [==============================] - 0s 22ms/step - loss: 12.9882 - acc: 0.8519 - val_loss: 0.3585 - val_acc: 0.8889\n",
      "Epoch 7/50\n",
      "5/5 [==============================] - 0s 22ms/step - loss: 25.2107 - acc: 0.8889 - val_loss: 0.4531 - val_acc: 0.8889\n",
      "Epoch 8/50\n",
      "5/5 [==============================] - 0s 22ms/step - loss: 0.0000e+00 - acc: 1.0000 - val_loss: 0.4531 - val_acc: 0.8889\n",
      "Epoch 9/50\n",
      "5/5 [==============================] - 0s 23ms/step - loss: 0.0000e+00 - acc: 1.0000 - val_loss: 0.4531 - val_acc: 0.8889\n",
      "Epoch 10/50\n",
      "5/5 [==============================] - 0s 23ms/step - loss: 0.0000e+00 - acc: 1.0000 - val_loss: 0.4531 - val_acc: 0.8889\n",
      "Epoch 11/50\n",
      "5/5 [==============================] - 0s 22ms/step - loss: 0.0000e+00 - acc: 1.0000 - val_loss: 0.4531 - val_acc: 0.8889\n",
      "Epoch 12/50\n",
      "5/5 [==============================] - 0s 22ms/step - loss: 0.0000e+00 - acc: 1.0000 - val_loss: 0.4531 - val_acc: 0.8889\n",
      "Epoch 13/50\n",
      "5/5 [==============================] - 0s 23ms/step - loss: 0.0000e+00 - acc: 1.0000 - val_loss: 0.4531 - val_acc: 0.8889\n",
      "Epoch 14/50\n",
      "5/5 [==============================] - 0s 23ms/step - loss: 0.0000e+00 - acc: 1.0000 - val_loss: 0.4531 - val_acc: 0.8889\n",
      "Epoch 15/50\n",
      "5/5 [==============================] - 0s 22ms/step - loss: 0.0000e+00 - acc: 1.0000 - val_loss: 0.4531 - val_acc: 0.8889\n",
      "Epoch 16/50\n",
      "5/5 [==============================] - 0s 23ms/step - loss: 0.0000e+00 - acc: 1.0000 - val_loss: 0.4531 - val_acc: 0.8889\n",
      "Epoch 17/50\n",
      "5/5 [==============================] - 0s 22ms/step - loss: 0.0000e+00 - acc: 1.0000 - val_loss: 0.4531 - val_acc: 0.8889\n",
      "Epoch 18/50\n",
      "5/5 [==============================] - 0s 22ms/step - loss: 0.0000e+00 - acc: 1.0000 - val_loss: 0.4531 - val_acc: 0.8889\n",
      "Epoch 19/50\n",
      "5/5 [==============================] - 0s 23ms/step - loss: 0.0000e+00 - acc: 1.0000 - val_loss: 0.4531 - val_acc: 0.8889\n",
      "Epoch 20/50\n",
      "5/5 [==============================] - 0s 23ms/step - loss: 0.0000e+00 - acc: 1.0000 - val_loss: 0.4531 - val_acc: 0.8889\n",
      "Epoch 21/50\n",
      "5/5 [==============================] - 0s 22ms/step - loss: 0.0000e+00 - acc: 1.0000 - val_loss: 0.4531 - val_acc: 0.8889\n",
      "Epoch 22/50\n",
      "5/5 [==============================] - 0s 22ms/step - loss: 0.0000e+00 - acc: 1.0000 - val_loss: 0.4531 - val_acc: 0.8889\n",
      "Epoch 23/50\n",
      "5/5 [==============================] - 0s 22ms/step - loss: 0.0000e+00 - acc: 1.0000 - val_loss: 0.4531 - val_acc: 0.8889\n",
      "Epoch 24/50\n",
      "5/5 [==============================] - 0s 23ms/step - loss: 0.0000e+00 - acc: 1.0000 - val_loss: 0.4531 - val_acc: 0.8889\n",
      "Epoch 25/50\n",
      "5/5 [==============================] - 0s 22ms/step - loss: 0.0000e+00 - acc: 1.0000 - val_loss: 0.4531 - val_acc: 0.8889\n",
      "Epoch 26/50\n",
      "5/5 [==============================] - 0s 22ms/step - loss: 0.0000e+00 - acc: 1.0000 - val_loss: 0.4531 - val_acc: 0.8889\n",
      "Epoch 27/50\n",
      "5/5 [==============================] - 0s 22ms/step - loss: 0.0000e+00 - acc: 1.0000 - val_loss: 0.4531 - val_acc: 0.8889\n",
      "Epoch 28/50\n",
      "5/5 [==============================] - 0s 22ms/step - loss: 0.0000e+00 - acc: 1.0000 - val_loss: 0.4531 - val_acc: 0.8889\n",
      "Epoch 29/50\n",
      "5/5 [==============================] - 0s 22ms/step - loss: 0.0000e+00 - acc: 1.0000 - val_loss: 0.4531 - val_acc: 0.8889\n",
      "Epoch 30/50\n",
      "5/5 [==============================] - 0s 22ms/step - loss: 0.0000e+00 - acc: 1.0000 - val_loss: 0.4531 - val_acc: 0.8889\n",
      "Epoch 31/50\n",
      "5/5 [==============================] - 0s 23ms/step - loss: 0.0000e+00 - acc: 1.0000 - val_loss: 0.4531 - val_acc: 0.8889\n",
      "Epoch 32/50\n",
      "5/5 [==============================] - 0s 23ms/step - loss: 0.0000e+00 - acc: 1.0000 - val_loss: 0.4531 - val_acc: 0.8889\n",
      "Epoch 33/50\n",
      "5/5 [==============================] - 0s 22ms/step - loss: 0.0000e+00 - acc: 1.0000 - val_loss: 0.4531 - val_acc: 0.8889\n",
      "Epoch 34/50\n",
      "5/5 [==============================] - 0s 21ms/step - loss: 0.0000e+00 - acc: 1.0000 - val_loss: 0.4531 - val_acc: 0.8889\n",
      "Epoch 35/50\n",
      "5/5 [==============================] - 0s 22ms/step - loss: 0.0000e+00 - acc: 1.0000 - val_loss: 0.4531 - val_acc: 0.8889\n",
      "Epoch 36/50\n",
      "5/5 [==============================] - 0s 22ms/step - loss: 0.0000e+00 - acc: 1.0000 - val_loss: 0.4531 - val_acc: 0.8889\n",
      "Epoch 37/50\n",
      "5/5 [==============================] - 0s 22ms/step - loss: 0.0000e+00 - acc: 1.0000 - val_loss: 0.4531 - val_acc: 0.8889\n",
      "Epoch 38/50\n",
      "5/5 [==============================] - 0s 23ms/step - loss: 0.0000e+00 - acc: 1.0000 - val_loss: 0.4531 - val_acc: 0.8889\n",
      "Epoch 39/50\n",
      "5/5 [==============================] - 0s 23ms/step - loss: 0.0000e+00 - acc: 1.0000 - val_loss: 0.4531 - val_acc: 0.8889\n",
      "Epoch 40/50\n",
      "5/5 [==============================] - 0s 22ms/step - loss: 0.0000e+00 - acc: 1.0000 - val_loss: 0.4531 - val_acc: 0.8889\n",
      "Epoch 41/50\n",
      "5/5 [==============================] - 0s 22ms/step - loss: 0.0000e+00 - acc: 1.0000 - val_loss: 0.4531 - val_acc: 0.8889\n",
      "Epoch 42/50\n",
      "5/5 [==============================] - 0s 23ms/step - loss: 0.0000e+00 - acc: 1.0000 - val_loss: 0.4531 - val_acc: 0.8889\n",
      "Epoch 43/50\n",
      "5/5 [==============================] - 0s 22ms/step - loss: 0.0000e+00 - acc: 1.0000 - val_loss: 0.4531 - val_acc: 0.8889\n",
      "Epoch 44/50\n",
      "5/5 [==============================] - 0s 23ms/step - loss: 0.0000e+00 - acc: 1.0000 - val_loss: 0.4531 - val_acc: 0.8889\n",
      "Epoch 45/50\n",
      "5/5 [==============================] - 0s 23ms/step - loss: 0.0000e+00 - acc: 1.0000 - val_loss: 0.4531 - val_acc: 0.8889\n",
      "Epoch 46/50\n",
      "5/5 [==============================] - 0s 22ms/step - loss: 0.0000e+00 - acc: 1.0000 - val_loss: 0.4531 - val_acc: 0.8889\n",
      "Epoch 47/50\n",
      "5/5 [==============================] - 0s 23ms/step - loss: 0.0000e+00 - acc: 1.0000 - val_loss: 0.4531 - val_acc: 0.8889\n",
      "Epoch 48/50\n",
      "5/5 [==============================] - 0s 22ms/step - loss: 0.0000e+00 - acc: 1.0000 - val_loss: 0.4531 - val_acc: 0.8889\n",
      "Epoch 49/50\n",
      "5/5 [==============================] - 0s 22ms/step - loss: 0.0000e+00 - acc: 1.0000 - val_loss: 0.4531 - val_acc: 0.8889\n",
      "Epoch 50/50\n",
      "5/5 [==============================] - 0s 22ms/step - loss: 0.0000e+00 - acc: 1.0000 - val_loss: 0.4531 - val_acc: 0.8889\n"
     ]
    }
   ],
   "source": [
    "history = model.fit_generator(train_generator,\n",
    "                              epochs=50,\n",
    "                              verbose=1,\n",
    "                              validation_data=validation_generator)\n"
   ]
  },
  {
   "cell_type": "code",
   "execution_count": 6,
   "metadata": {},
   "outputs": [
    {
     "data": {
      "text/plain": [
       "Text(0.5, 1.0, 'Training and validation loss')"
      ]
     },
     "execution_count": 6,
     "metadata": {},
     "output_type": "execute_result"
    },
    {
     "data": {
      "image/png": "[encoded data removed]",
      "text/plain": [
       "<Figure size 432x288 with 1 Axes>"
      ]
     },
     "metadata": {
      "needs_background": "light"
     },
     "output_type": "display_data"
    },
    {
     "data": {
      "image/png": "[encoded data removed]",
      "text/plain": [
       "<Figure size 432x288 with 1 Axes>"
      ]
     },
     "metadata": {
      "needs_background": "light"
     },
     "output_type": "display_data"
    }
   ],
   "source": [
    "# PLOT LOSS AND ACCURACY\n",
    "%matplotlib inline\n",
    "\n",
    "import matplotlib.image  as mpimg\n",
    "import matplotlib.pyplot as plt\n",
    "\n",
    "acc=history.history['acc']\n",
    "val_acc=history.history['val_acc']\n",
    "loss=history.history['loss']\n",
    "val_loss=history.history['val_loss']\n",
    "\n",
    "epochs=range(len(acc)) \n",
    "\n",
    "plt.plot(epochs, acc, 'r', \"Training Accuracy\")\n",
    "plt.plot(epochs, val_acc, 'b', \"Validation Accuracy\")\n",
    "plt.title('Training and validation accuracy')\n",
    "plt.figure()\n",
    "\n",
    "plt.plot(epochs, loss, 'r', \"Training Loss\")\n",
    "plt.plot(epochs, val_loss, 'b', \"Validation Loss\")\n",
    "\n",
    "\n",
    "plt.title('Training and validation loss')\n"
   ]
  },
  {
   "cell_type": "code",
   "execution_count": 7,
   "metadata": {},
   "outputs": [
    {
     "name": "stdout",
     "output_type": "stream",
     "text": [
      "WARNING:tensorflow:sample_weight modes were coerced from\n",
      "  ...\n",
      "    to  \n",
      "  ['...']\n",
      "2/2 [==============================] - 0s 8ms/step - loss: 0.4531 - acc: 0.8889\n"
     ]
    },
    {
     "data": {
      "text/plain": [
       "[0.4530708361417055, 0.8888889]"
      ]
     },
     "execution_count": 7,
     "metadata": {},
     "output_type": "execute_result"
    }
   ],
   "source": [
    "model.evaluate(validation_generator, verbose=1)"
   ]
  },
  {
   "cell_type": "markdown",
   "metadata": {},
   "source": [
    "<b>Make sure that the test image is placed in the directory mentioned below.</b> <br> <i>C:\\Users\\xxxx\\xxxx\\test\\test_1\\test_img.jpg<i> <br> Name should be <b>test_img.jpg</b>. <br> Image size shoould be greater than <b>128 X 128 X 3 pixels</b>. Code has auto scaling."
   ]
  },
  {
   "cell_type": "code",
   "execution_count": 8,
   "metadata": {},
   "outputs": [
    {
     "data": {
      "text/plain": [
       "-1"
      ]
     },
     "execution_count": 8,
     "metadata": {},
     "output_type": "execute_result"
    }
   ],
   "source": [
    "img = cv2.imread(r'C:\\Users\\adity\\Documents\\test\\test_1\\test_img.jpg')\n",
    "resize = cv2.resize(img,(128,128), interpolation = cv2.INTER_AREA)\n",
    "if os.path.isfile(r'C:\\Users\\adity\\Documents\\test\\result\\test\\new_test.jpg'):\n",
    "    None\n",
    "else:    \n",
    "    root_dir = r\"C:\\Users\\adity\\Documents\\test\"\n",
    "    parent_dir = 'result'\n",
    "    sub_parent_dir = 'test'\n",
    "    path1 = os.path.join(root_dir, parent_dir)\n",
    "    os.mkdir(path1)\n",
    "    path2 = os.path.join(path1, sub_parent_dir)\n",
    "    os.mkdir(path2)\n",
    "cv2.imwrite(r'C:\\Users\\adity\\Documents\\test\\result\\test\\new_test.jpg', resize)\n",
    "cv2.waitKey(0)"
   ]
  },
  {
   "cell_type": "markdown",
   "metadata": {},
   "source": [
    "\n"
   ]
  },
  {
   "cell_type": "code",
   "execution_count": 9,
   "metadata": {},
   "outputs": [
    {
     "name": "stdout",
     "output_type": "stream",
     "text": [
      "Found 1 images belonging to 1 classes.\n",
      "<keras_preprocessing.image.directory_iterator.DirectoryIterator object at 0x000002D7FBE4FC08>\n"
     ]
    }
   ],
   "source": [
    "TRAINING_DIR =  r'C:\\Users\\adity\\Documents\\test\\result'\n",
    "train_datagen = ImageDataGenerator(\n",
    "    rescale = 1./255,\n",
    "    rotation_range = 40,\n",
    "    width_shift_range = 0.2,\n",
    "    height_shift_range = 0.2,\n",
    "    shear_range = 0.2,\n",
    "    zoom_range = 0.2,\n",
    "    horizontal_flip = True,\n",
    "    fill_mode = 'nearest')\n",
    "\n",
    "train_generator = train_datagen.flow_from_directory(\n",
    "    TRAINING_DIR,\n",
    "    target_size = (128, 128),\n",
    "   )\n",
    "print(train_generator)"
   ]
  },
  {
   "cell_type": "code",
   "execution_count": 10,
   "metadata": {},
   "outputs": [
    {
     "name": "stdout",
     "output_type": "stream",
     "text": [
      "[[2.7441853e-05 9.9996626e-01 6.3538409e-06]]\n"
     ]
    }
   ],
   "source": [
    "prediction = model.predict(train_generator)\n",
    "print(prediction)"
   ]
  },
  {
   "cell_type": "code",
   "execution_count": null,
   "metadata": {},
   "outputs": [],
   "source": []
  },
  {
   "cell_type": "code",
   "execution_count": 11,
   "metadata": {},
   "outputs": [
    {
     "name": "stdout",
     "output_type": "stream",
     "text": [
      "Green\n"
     ]
    },
    {
     "data": {
      "image/png": "[encoded data removed]",
      "text/plain": [
       "<Figure size 432x288 with 1 Axes>"
      ]
     },
     "metadata": {
      "needs_background": "light"
     },
     "output_type": "display_data"
    }
   ],
   "source": [
    "if prediction[0][0] > 0.8:\n",
    "    print('Blue')\n",
    "elif prediction[0][1] > 0.8:\n",
    "    print('Green')\n",
    "elif prediction[0][2] > 0.8:\n",
    "    print('Red')\n",
    "img_new = mpimg.imread(r'C:\\Users\\adity\\Documents\\test\\result\\test\\new_test.jpg')\n",
    "pic = plt.imshow(img_new)    "
   ]
  },
  {
   "cell_type": "code",
   "execution_count": null,
   "metadata": {},
   "outputs": [],
   "source": []
  },
  {
   "cell_type": "code",
   "execution_count": null,
   "metadata": {},
   "outputs": [],
   "source": []
  }
 ],
 "metadata": {
  "kernelspec": {
   "display_name": "gputest",
   "language": "python",
   "name": "gputest"
  },
  "language_info": {
   "codemirror_mode": {
    "name": "ipython",
    "version": 3
   },
   "file_extension": ".py",
   "mimetype": "text/x-python",
   "name": "python",
   "nbconvert_exporter": "python",
   "pygments_lexer": "ipython3",
   "version": "3.7.7"
  }
 },
 "nbformat": 4,
 "nbformat_minor": 4
}
